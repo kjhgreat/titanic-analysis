{
 "cells": [
  {
   "cell_type": "markdown",
   "metadata": {},
   "source": [
    "# 타이타닉 생존 분석: 탐색적 데이터 분석 (EDA)\n",
    "\n",
    "## 1. 개요\n",
    "이 노트북에서는 전처리된 타이타닉 데이터셋을 사용하여 탐색적 데이터 분석을 수행합니다.\n",
    "\n",
    "### 1.1 분석 목표\n",
    "- 승객 구성의 전반적인 특성 파악\n",
    "- 생존에 영향을 미친 주요 요인 탐색\n",
    "- 사회경제적 요인과 가족 관계의 상호작용 분석\n",
    "\n",
    "### 1.2 필요한 라이브러리 및 데이터 로드"
   ]
  },
  {
   "cell_type": "code",
   "execution_count": 1,
   "metadata": {},
   "outputs": [
    {
     "name": "stdout",
     "output_type": "stream",
     "text": [
      "데이터셋 기본 정보:\n",
      "<class 'pandas.core.frame.DataFrame'>\n",
      "RangeIndex: 891 entries, 0 to 890\n",
      "Data columns (total 16 columns):\n",
      " #   Column         Non-Null Count  Dtype  \n",
      "---  ------         --------------  -----  \n",
      " 0   survived       891 non-null    int64  \n",
      " 1   pclass         891 non-null    int64  \n",
      " 2   sex            891 non-null    object \n",
      " 3   age            891 non-null    float64\n",
      " 4   sibsp          891 non-null    int64  \n",
      " 5   parch          891 non-null    int64  \n",
      " 6   fare           891 non-null    float64\n",
      " 7   embarked       891 non-null    object \n",
      " 8   who            891 non-null    object \n",
      " 9   adult_male     891 non-null    bool   \n",
      " 10  deck           891 non-null    object \n",
      " 11  alone          891 non-null    bool   \n",
      " 12  family_size    891 non-null    int64  \n",
      " 13  family_type    891 non-null    object \n",
      " 14  age_group      891 non-null    object \n",
      " 15  fare_category  891 non-null    object \n",
      "dtypes: bool(2), float64(2), int64(5), object(7)\n",
      "memory usage: 99.3+ KB\n",
      "None\n",
      "\n",
      "기술 통계량:\n",
      "         survived      pclass         age       sibsp       parch        fare  \\\n",
      "count  891.000000  891.000000  891.000000  891.000000  891.000000  891.000000   \n",
      "mean     0.383838    2.308642   29.699118    0.523008    0.381594   32.204208   \n",
      "std      0.486592    0.836071   13.002015    1.102743    0.806057   49.693429   \n",
      "min      0.000000    1.000000    0.420000    0.000000    0.000000    0.000000   \n",
      "25%      0.000000    2.000000   22.000000    0.000000    0.000000    7.910400   \n",
      "50%      0.000000    3.000000   29.699118    0.000000    0.000000   14.454200   \n",
      "75%      1.000000    3.000000   35.000000    1.000000    0.000000   31.000000   \n",
      "max      1.000000    3.000000   80.000000    8.000000    6.000000  512.329200   \n",
      "\n",
      "       family_size  \n",
      "count   891.000000  \n",
      "mean      1.904602  \n",
      "std       1.613459  \n",
      "min       1.000000  \n",
      "25%       1.000000  \n",
      "50%       1.000000  \n",
      "75%       2.000000  \n",
      "max      11.000000  \n"
     ]
    }
   ],
   "source": [
    "import pandas as pd\n",
    "import numpy as np\n",
    "import matplotlib.pyplot as plt\n",
    "import seaborn as sns\n",
    "\n",
    "# 시각화 설정\n",
    "plt.style.use('classic')\n",
    "sns.set_theme()\n",
    "%matplotlib inline\n",
    "\n",
    "# 데이터 로드\n",
    "df = pd.read_csv('../data/processed/titanic_processed.csv')\n",
    "\n",
    "# 기본 정보 확인\n",
    "print(\"데이터셋 기본 정보:\")\n",
    "print(df.info())\n",
    "\n",
    "# 기술 통계량 확인\n",
    "print(\"\\n기술 통계량:\")\n",
    "print(df.describe())"
   ]
  },
  {
   "cell_type": "markdown",
   "metadata": {},
   "source": [
    "## 2. 기본 데이터 분석\n",
    "\n",
    "### 2.1 데이터셋 특성 분석\n",
    "1. 전반적인 특성:\n",
    "   - 총 891명의 승객 데이터\n",
    "   - 16개의 특성 (수치형, 범주형, 불리언)\n",
    "   - 결측치 없음 (전처리 완료)\n",
    "\n",
    "2. 주요 수치형 변수 특성:\n",
    "   - survived: 평균 0.384 (38.4% 생존율)\n",
    "   - age: 평균 29.7세 (범위: 0.42-80세)\n",
    "   - fare: 평균 32.2 (범위: 0-512.3)\n",
    "   - family_size: 평균 1.9명 (범위: 1-11명)\n",
    "\n",
    "### 2.2 기초 분석 시각화\n",
    "다음 시각화를 통해 주요 변수들의 분포와 관계를 살펴보겠습니다:"
   ]
  }
 ],
 "metadata": {
  "kernelspec": {
   "display_name": "venv",
   "language": "python",
   "name": "python3"
  },
  "language_info": {
   "codemirror_mode": {
    "name": "ipython",
    "version": 3
   },
   "file_extension": ".py",
   "mimetype": "text/x-python",
   "name": "python",
   "nbconvert_exporter": "python",
   "pygments_lexer": "ipython3",
   "version": "3.13.0"
  }
 },
 "nbformat": 4,
 "nbformat_minor": 2
}
